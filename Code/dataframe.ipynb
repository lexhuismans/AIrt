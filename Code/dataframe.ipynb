{
 "cells": [
  {
   "cell_type": "markdown",
   "metadata": {},
   "source": [
    "# DataFrames"
   ]
  },
  {
   "cell_type": "code",
   "execution_count": 8,
   "metadata": {},
   "outputs": [],
   "source": [
    "import numpy as np\n",
    "import pandas as pd\n",
    "import re"
   ]
  },
  {
   "cell_type": "code",
   "execution_count": 9,
   "metadata": {},
   "outputs": [],
   "source": [
    "df = pd.read_csv(r'../data/zeefdrukken_data.csv')\n",
    "df = df.iloc[0:-7,1::]"
   ]
  },
  {
   "cell_type": "markdown",
   "metadata": {},
   "source": [
    "## Ingelijst"
   ]
  },
  {
   "cell_type": "code",
   "execution_count": 10,
   "metadata": {},
   "outputs": [],
   "source": [
    "df['Ingelijst'] = df['Ingelijst'].apply(lambda x : 1 if x == 'Ingelijst' else 0)"
   ]
  },
  {
   "cell_type": "markdown",
   "metadata": {},
   "source": [
    "## Hoogte en breedte"
   ]
  },
  {
   "cell_type": "code",
   "execution_count": 11,
   "metadata": {},
   "outputs": [],
   "source": [
    "def get_sizes(size):\n",
    "    if type(size) == str:\n",
    "        dimensions = re.findall(r'[+-]?\\d*\\.\\d+|\\d+', size)\n",
    "        height = float(dimensions[0])\n",
    "        width = float(dimensions[1])\n",
    "        # print('Height: ', height, '    Width: ', width, '    Datatypes: ', type(height), '  ', type(width))\n",
    "        return np.array([height, width])\n",
    "    else:\n",
    "        return np.array([None, None])\n",
    "    \n",
    "df[['Hoogte', 'Breedte']] = pd.DataFrame(df['Afmetingen'].apply(get_sizes).iloc[:].to_list(), index=df.index)"
   ]
  },
  {
   "cell_type": "markdown",
   "metadata": {},
   "source": [
    "## Jaartal"
   ]
  },
  {
   "cell_type": "code",
   "execution_count": 13,
   "metadata": {},
   "outputs": [],
   "source": [
    "df['Jaartal'] = pd.to_numeric(df['Jaartal'])"
   ]
  },
  {
   "cell_type": "markdown",
   "metadata": {},
   "source": [
    "## Artist"
   ]
  },
  {
   "cell_type": "code",
   "execution_count": 65,
   "metadata": {},
   "outputs": [],
   "source": [
    "def get_artist_year(value):\n",
    "    if type(value) == str:\n",
    "        words = re.findall(r'(\\w[ \\w]+\\w+)', value)\n",
    "        name = words[0]\n",
    "        try:\n",
    "            birth = words[1]\n",
    "        except:\n",
    "            birth = None\n",
    "        try:\n",
    "            death = words[2]\n",
    "        except:\n",
    "            death = None\n",
    "        \n",
    "        return name, birth, death\n",
    "        \n",
    "df[['Artist', 'Birth', 'Death']] = pd.DataFrame(df['Artist'].apply(get_artist_year).to_list(), index=df.index)"
   ]
  },
  {
   "cell_type": "code",
   "execution_count": 66,
   "metadata": {},
   "outputs": [
    {
     "name": "stdout",
     "output_type": "stream",
     "text": [
      "                                                  Title            Artist  \\\n",
      "0     Co Westerik - Zeefdruk: Niet op het tapijt - 1995       Co Westerik   \n",
      "1                       Shunyam - Zeefdruk, Royal Smile           Shunyam   \n",
      "2                           Corneille - Femme et oiseau         Corneille   \n",
      "3                              Herman Brood - voetbal 3      Herman Brood   \n",
      "4     Klaas Gubbels - zeefdruk ‘Blauwe kan met kopje...     Klaas Gubbels   \n",
      "...                                                 ...               ...   \n",
      "7095  Henk van der Vet - Henk van der Vet: Zeefdruk,...  Henk van der Vet   \n",
      "7096  Harrie Gerritz - Harrie Gerritz: Zeefdruk, Zon...    Harrie Gerritz   \n",
      "7097      James Hagen - James Hagen: Zeefdruk, Snow Cap       James Hagen   \n",
      "7098  C.A. Wertheim - C.A. Wertheim: Zeefdruk, Haven...          Wertheim   \n",
      "7099  Corneille - Corneille: Zeefdruk, Femmes et cha...         Corneille   \n",
      "\n",
      "      Price                 Date             Type  Jaartal  Techniek  \\\n",
      "0     228.0  30-10-2020 om 14:06  Grafiek na 1900   1995.0  Zeefdruk   \n",
      "1      51.0  13-10-2020 om 22:35  Grafiek na 1900      NaN  Zeefdruk   \n",
      "2      92.0  27-04-2020 om 18:13  Grafiek na 1900      NaN  Zeefdruk   \n",
      "3     148.0  25-10-2020 om 00:54  Grafiek na 1900   1998.0  Zeefdruk   \n",
      "4     316.0  21-10-2020 om 22:58  Grafiek na 1900   2005.0  Zeefdruk   \n",
      "...     ...                  ...              ...      ...       ...   \n",
      "7095  150.0  25-05-2018 om 16:11  Grafiek na 1900   1982.0  Zeefdruk   \n",
      "7096   35.0  25-05-2018 om 15:52  Grafiek na 1900   1995.0  Zeefdruk   \n",
      "7097   35.0  24-05-2018 om 15:14  Grafiek na 1900      NaN  Zeefdruk   \n",
      "7098   35.0  25-05-2018 om 13:04  Grafiek na 1900   1992.0  Zeefdruk   \n",
      "7099  120.0  23-05-2018 om 12:51  Grafiek na 1900   2000.0  Zeefdruk   \n",
      "\n",
      "               Drager              Stijl  Onderwerp  ...  \\\n",
      "0              Papier             Modern    Figuren  ...   \n",
      "1              Papier         Street Art    Portret  ...   \n",
      "2              Papier                NaN        NaN  ...   \n",
      "3     Geschept Papier             Modern      Sport  ...   \n",
      "4              Papier  Impressionistisch  Stilleven  ...   \n",
      "...               ...                ...        ...  ...   \n",
      "7095           Papier                NaN        NaN  ...   \n",
      "7096           Papier                NaN        NaN  ...   \n",
      "7097           Papier                NaN        NaN  ...   \n",
      "7098           Papier                NaN        NaN  ...   \n",
      "7099  Geschept Papier           Abstract    Figuren  ...   \n",
      "\n",
      "                   Afmetingen          Gesigneerd         Oplage  \\\n",
      "0     49 cm x 64.5 cm (h x b)      Handgesigneerd     \\n93/250\\n   \n",
      "1       68 cm x 68 cm (h x b)      Handgesigneerd     \\n58/100\\n   \n",
      "2       55 cm x 45 cm (h x b)  \\nHandgesigneerd\\n            NaN   \n",
      "3       65 cm x 95 cm (h x b)      Handgesigneerd        \\nE/A\\n   \n",
      "4     28.5 cm x 38 cm (h x b)      Handgesigneerd        \\nE/A\\n   \n",
      "...                       ...                 ...            ...   \n",
      "7095  62.5 cm x 77 cm (h x b)      Handgesigneerd       \\n6/90\\n   \n",
      "7096    73 cm x 55 cm (h x b)      Handgesigneerd       \\ne.a.\\n   \n",
      "7097  63.5 cm x 81 cm (h x b)      Handgesigneerd    \\n258/300\\n   \n",
      "7098    60 cm x 94 cm (h x b)      Handgesigneerd      \\n25/50\\n   \n",
      "7099  51.5 cm x 63 cm (h x b)      Handgesigneerd  \\n VIII/XXX\\n   \n",
      "\n",
      "             Periode                       Lijst Passe-partout Hoogte  \\\n",
      "0                NaN                         NaN           NaN   49.0   \n",
      "1     2000 t/m Heden                         NaN           NaN   68.0   \n",
      "2      1945 t/m 1999                         NaN           NaN   55.0   \n",
      "3                NaN                         NaN           NaN   65.0   \n",
      "4                NaN                         NaN           NaN   28.5   \n",
      "...              ...                         ...           ...    ...   \n",
      "7095             NaN                         NaN           NaN   62.5   \n",
      "7096             NaN                         NaN           NaN   73.0   \n",
      "7097   1945 t/m 1999                         NaN           NaN   63.5   \n",
      "7098             NaN  71.5 cm x 101.5 cm (h x b)           NaN   60.0   \n",
      "7099             NaN                         NaN           NaN   51.5   \n",
      "\n",
      "      Breedte  Birth Death  \n",
      "0        64.5   1924  2018  \n",
      "1        68.0   1953  None  \n",
      "2        45.0   1922  2010  \n",
      "3        95.0   1946  2001  \n",
      "4        38.0   1934  None  \n",
      "...       ...    ...   ...  \n",
      "7095     77.0   1939  None  \n",
      "7096     55.0   1940  None  \n",
      "7097     81.0   1927  None  \n",
      "7098     94.0   1962  None  \n",
      "7099     63.0   1922  2010  \n",
      "\n",
      "[7100 rows x 21 columns]\n"
     ]
    }
   ],
   "source": [
    "print(df)"
   ]
  },
  {
   "cell_type": "code",
   "execution_count": null,
   "metadata": {},
   "outputs": [],
   "source": []
  }
 ],
 "metadata": {
  "kernelspec": {
   "display_name": "Python 3",
   "language": "python",
   "name": "python3"
  },
  "language_info": {
   "codemirror_mode": {
    "name": "ipython",
    "version": 3
   },
   "file_extension": ".py",
   "mimetype": "text/x-python",
   "name": "python",
   "nbconvert_exporter": "python",
   "pygments_lexer": "ipython3",
   "version": "3.8.1"
  }
 },
 "nbformat": 4,
 "nbformat_minor": 4
}
